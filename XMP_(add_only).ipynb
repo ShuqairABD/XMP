{
  "nbformat": 4,
  "nbformat_minor": 0,
  "metadata": {
    "colab": {
      "provenance": [],
      "authorship_tag": "ABX9TyO1c3PrzkgHvQvM02+xGINn",
      "include_colab_link": true
    },
    "kernelspec": {
      "name": "python3",
      "display_name": "Python 3"
    },
    "language_info": {
      "name": "python"
    }
  },
  "cells": [
    {
      "cell_type": "markdown",
      "metadata": {
        "id": "view-in-github",
        "colab_type": "text"
      },
      "source": [
        "<a href=\"https://colab.research.google.com/github/ShuqairABD/XMP/blob/main/XMP_(add_only).ipynb\" target=\"_parent\"><img src=\"https://colab.research.google.com/assets/colab-badge.svg\" alt=\"Open In Colab\"/></a>"
      ]
    },
    {
      "cell_type": "markdown",
      "source": [
        "# XMP"
      ],
      "metadata": {
        "id": "nAg6cJ2V8Pmr"
      }
    },
    {
      "cell_type": "code",
      "source": [
        "# Установка необходимых пакетов\n",
        "# Импорт библиотеки для работы с метаданными изображений\n",
        "!pip install piexif\n",
        "!pip install xmp\n",
        "import piexif"
      ],
      "metadata": {
        "colab": {
          "base_uri": "https://localhost:8080/"
        },
        "id": "X0XzziDj58xe",
        "outputId": "fd1e6fcb-5086-4afa-cdf5-539e860d1989"
      },
      "execution_count": 1,
      "outputs": [
        {
          "output_type": "stream",
          "name": "stdout",
          "text": [
            "Collecting piexif\n",
            "  Downloading piexif-1.1.3-py2.py3-none-any.whl (20 kB)\n",
            "Installing collected packages: piexif\n",
            "Successfully installed piexif-1.1.3\n",
            "Collecting xmp\n",
            "  Downloading xmp-0.0.1-py3-none-any.whl (2.6 kB)\n",
            "Installing collected packages: xmp\n",
            "Successfully installed xmp-0.0.1\n"
          ]
        }
      ]
    },
    {
      "cell_type": "markdown",
      "source": [
        "**Добавление метаданных XMP к изображению**"
      ],
      "metadata": {
        "id": "GlW6kXE7o6SU"
      }
    },
    {
      "cell_type": "code",
      "source": [
        "# Пример данных XMP\n",
        "xmp_data = b'<x:xmpmeta xmlns:x=\"adobe:ns:meta/\" x:xmptk=\"Adobe XMP Core 5.4-c005 78.147326, 2012/08/23-13:03:03        \"> \\\n",
        "<rdf:RDF xmlns:rdf=\"http://www.w3.org/1999/02/22-rdf-syntax-ns#\"> \\\n",
        "  <rdf:Description rdf:about=\"\" \\\n",
        "    xmlns:xmpMM=\"http://ns.adobe.com/xap/1.0/mm/\" \\\n",
        "    xmlns:xmp=\"http://ns.adobe.com/xap/1.0/\"> \\\n",
        "    <xmp:Rating>5</xmp:Rating> \\\n",
        "    <xmpMM:DocumentID>adobe:docid:photoshop:bbf40645-54c8-117c-87f1-bb7e01059f19</xmpMM:DocumentID> \\\n",
        "  </rdf:Description> \\\n",
        "</rdf:RDF> \\\n",
        "</x:xmpmeta>'\n",
        "\n",
        "# Путь к файлу изображения\n",
        "image_path = \"/content/wint.jpeg\"\n",
        "\n",
        "# Чтение существующих метаданных Exif\n",
        "exif_dict = piexif.load(image_path)\n",
        "\n",
        "# Добавление метаданных XMP\n",
        "exif_dict[\"Exif\"][piexif.ExifIFD.UserComment] = xmp_data\n",
        "\n",
        "# Преобразование метаданных Exif обратно в бинарный формат\n",
        "exif_bytes = piexif.dump(exif_dict)\n",
        "\n",
        "# Запись метаданных Exif в файл изображения\n",
        "piexif.insert(exif_bytes, image_path)\n",
        "\n",
        "print(\"XMP metadata added successfully.\")\n",
        "\n"
      ],
      "metadata": {
        "colab": {
          "base_uri": "https://localhost:8080/"
        },
        "id": "npMgK2uH56Ke",
        "outputId": "ec1c4742-c1d6-460c-a18f-ce093270d1b3"
      },
      "execution_count": 8,
      "outputs": [
        {
          "output_type": "stream",
          "name": "stdout",
          "text": [
            "XMP metadata added successfully.\n"
          ]
        }
      ]
    },
    {
      "cell_type": "markdown",
      "source": [
        "**Извлечение ключевых слов из метаданных XMP изображения**"
      ],
      "metadata": {
        "id": "NguegcMsoQMz"
      }
    },
    {
      "cell_type": "code",
      "source": [
        "# Путь к файлу изображения\n",
        "image_path = \"/content/wint.jpeg\"\n",
        "\n",
        "# Чтение метаданных XMP из файла изображения\n",
        "exif_dict = piexif.load(image_path)\n",
        "\n",
        "# Извлечение данных XMP\n",
        "xmp_data = exif_dict.get(\"Exif\", {}).get(piexif.ExifIFD.UserComment, None)\n",
        "\n",
        "# Вывод ключевых слов из метаданных XMP\n",
        "if xmp_data:\n",
        "    print(\"Keywords found in XMP metadata:\")\n",
        "    keywords = xmp_data.decode(\"utf-8\")\n",
        "    print(keywords)\n",
        "else:\n",
        "    print(\"No keywords found in XMP metadata.\")\n"
      ],
      "metadata": {
        "colab": {
          "base_uri": "https://localhost:8080/"
        },
        "id": "ko1kcpzN63lP",
        "outputId": "55563aa1-be60-4e84-82b5-e87085acbda9"
      },
      "execution_count": 3,
      "outputs": [
        {
          "output_type": "stream",
          "name": "stdout",
          "text": [
            "Keywords found in XMP metadata:\n",
            "<x:xmpmeta xmlns:x=\"adobe:ns:meta/\" x:xmptk=\"Adobe XMP Core 5.4-c005 78.147326, 2012/08/23-13:03:03        \"> <rdf:RDF xmlns:rdf=\"http://www.w3.org/1999/02/22-rdf-syntax-ns#\">   <rdf:Description rdf:about=\"\"     xmlns:xmpMM=\"http://ns.adobe.com/xap/1.0/mm/\"     xmlns:xmp=\"http://ns.adobe.com/xap/1.0/\">     <xmp:Rating>5</xmp:Rating>     <xmpMM:DocumentID>adobe:docid:photoshop:bbf40645-54c8-117c-87f1-bb7e01059f19</xmpMM:DocumentID>   </rdf:Description> </rdf:RDF> </x:xmpmeta>\n"
          ]
        }
      ]
    },
    {
      "cell_type": "markdown",
      "source": [
        "**Обновление метаданных XMP изображения с новым ключевым словом**"
      ],
      "metadata": {
        "id": "HghzY9Ztn5MY"
      }
    },
    {
      "cell_type": "code",
      "source": [
        "# Путь к файлу изображения\n",
        "image_path = \"/content/wint.jpeg\"\n",
        "\n",
        "# Чтение существующих метаданных XMP из файла изображения\n",
        "exif_dict = piexif.load(image_path)\n",
        "\n",
        "# Подготовка данных XMP с новым ключевым словом\n",
        "new_keyword = \"PETERBURG\"\n",
        "xmp_data = f'<dc:subject xmlns:dc=\"http://purl.org/dc/elements/1.1/\">{new_keyword}</dc:subject>'\n",
        "\n",
        "# Кодирование данных XMP в байты\n",
        "xmp_bytes = xmp_data.encode(\"utf-8\")\n",
        "\n",
        "# Обновление метаданных XMP в данных Exif\n",
        "exif_dict[\"Exif\"][piexif.ExifIFD.UserComment] = xmp_bytes\n",
        "\n",
        "# Преобразование данных Exif обратно в двоичный формат\n",
        "exif_bytes = piexif.dump(exif_dict)\n",
        "\n",
        "# Сохранение измененного изображения с обновленными данными Exif\n",
        "piexif.insert(exif_bytes, image_path)\n",
        "\n",
        "print(f\"New keyword ( {new_keyword} ) added successfully\" )\n"
      ],
      "metadata": {
        "colab": {
          "base_uri": "https://localhost:8080/"
        },
        "id": "FVY92Snu7XPl",
        "outputId": "5368b0f2-e95b-4440-8f8b-8e3a6d5a3033"
      },
      "execution_count": 46,
      "outputs": [
        {
          "output_type": "stream",
          "name": "stdout",
          "text": [
            "New keyword ( PETERBURG ) added successfully\n"
          ]
        }
      ]
    },
    {
      "cell_type": "markdown",
      "source": [
        "**Проверка наличия нового ключевого слова в метаданных XMP изображения**"
      ],
      "metadata": {
        "id": "tqPFlhy4nhYL"
      }
    },
    {
      "cell_type": "code",
      "source": [
        "# Путь к файлу изображения\n",
        "image_path = \"/content/wint.jpeg\"\n",
        "\n",
        "# Чтение метаданных XMP из файла изображения\n",
        "exif_dict = piexif.load(image_path)\n",
        "\n",
        "# Извлечение данных XMP\n",
        "xmp_data = exif_dict[\"Exif\"].get(piexif.ExifIFD.UserComment, b\"\").decode(\"utf-8\")\n",
        "\n",
        "# Проверка наличия ключевого слова \"PETERBURG\" в данных XMP\n",
        "new_keyword = new_keyword\n",
        "if new_keyword in xmp_data:\n",
        "    print(f\"Keyword '{new_keyword}' found in XMP metadata.\")\n",
        "else:\n",
        "    print(f\"Keyword '{new_keyword}' not found in XMP metadata.\")\n"
      ],
      "metadata": {
        "colab": {
          "base_uri": "https://localhost:8080/"
        },
        "id": "uT7xneoyr3f_",
        "outputId": "5bf42662-d1a3-4834-d1de-38b322d106e9"
      },
      "execution_count": 47,
      "outputs": [
        {
          "output_type": "stream",
          "name": "stdout",
          "text": [
            "Keyword 'PETERBURG' found in XMP metadata.\n"
          ]
        }
      ]
    },
    {
      "cell_type": "markdown",
      "source": [
        "**Чтение метаданных XMP**"
      ],
      "metadata": {
        "id": "CKUScJEhnX6v"
      }
    },
    {
      "cell_type": "code",
      "source": [
        "import piexif\n",
        "\n",
        "# Путь к файлу изображения\n",
        "image_path = \"/content/wint.jpeg\"\n",
        "\n",
        "# Чтение метаданных XMP из файла изображения\n",
        "exif_dict = piexif.load(image_path)\n",
        "\n",
        "# Извлечение данных XMP\n",
        "xmp_data = exif_dict[\"Exif\"].get(piexif.ExifIFD.UserComment, b\"\").decode(\"utf-8\")\n",
        "\n",
        "# Вывод данных XMP\n",
        "print(\"XMP Metadata:\")\n",
        "print(xmp_data)\n"
      ],
      "metadata": {
        "colab": {
          "base_uri": "https://localhost:8080/"
        },
        "id": "Tevn5uJa_bo1",
        "outputId": "a287ed23-3cb9-4d4b-b23b-8a444cf47a1a"
      },
      "execution_count": 48,
      "outputs": [
        {
          "output_type": "stream",
          "name": "stdout",
          "text": [
            "XMP Metadata:\n",
            "<dc:subject xmlns:dc=\"http://purl.org/dc/elements/1.1/\">PETERBURG</dc:subject>\n"
          ]
        }
      ]
    }
  ]
}